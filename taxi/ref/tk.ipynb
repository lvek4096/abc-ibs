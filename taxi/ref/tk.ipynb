{
 "cells": [
  {
   "cell_type": "code",
   "execution_count": 19,
   "metadata": {},
   "outputs": [],
   "source": [
    "import tkinter as tk\n",
    "#definitions\n",
    "window=tk.Tk()\n",
    "fnt=('IBM Plex Mono',12)\n",
    "window.title='GUI 1'\n",
    "window.geometry('640x480')\n",
    "\n",
    "def onclick():\n",
    "\tl1=tk.tk.Label(window,text='Button was clicked',font=fnt)\n",
    "\tl1.grid(row=0,column=3)\n",
    "\n",
    "tk.Label=tk.tk.Label(window,text='Hello',font=('IBM Plex Mono',12))\n",
    "tk.Label.grid(column=0,row=0)\n",
    "#column,row - set position of element\n",
    "bt=tk.Button(window,text='Enter',fg='white',bg='black',font=fnt,command=onclick)\n",
    "bt.grid(column=1,row=0)\t#fg, bg - text, btn color\n",
    "window.mainloop()\n"
   ]
  },
  {
   "cell_type": "code",
   "execution_count": 1,
   "metadata": {},
   "outputs": [],
   "source": [
    "import tkinter as tk\n",
    "#definitions\n",
    "window=tk.Tk()\n",
    "fnt=('IBM Plex Mono',12)\n",
    "window.title='GUI 1'\n",
    "window.geometry('640x480')\n",
    "\n",
    "text1=tk.Entry(window)\n",
    "text1.pack()\n",
    "def clicked():\n",
    "\tinp=text1.get()\n",
    "\ttk.tk.Label(window,text=str(inp)).pack()\n",
    "\n",
    "button=tk.Button(window,text='Enter',command=clicked).pack()\n",
    "\n",
    "window.mainloop()"
   ]
  },
  {
   "cell_type": "code",
   "execution_count": 42,
   "metadata": {},
   "outputs": [],
   "source": [
    "import tkinter as tk\n",
    "\n",
    "root= tk.Tk()\n",
    "\n",
    "canvas1 = tk.Canvas(root, width = 400, height = 300)\n",
    "canvas1.pack()\n",
    "\n",
    "entry1 = tk.Entry (root)\n",
    "canvas1.create_window(200, 140, window=entry1)\n",
    "\n",
    "def getSquareRoot ():  \n",
    "    x1 = entry1.get()\n",
    "    \n",
    "    tk.Label1 = tk.tk.Label(root, text= float(x1)**0.5)\n",
    "    canvas1.create_window(200, 230, window=tk.Label1)\n",
    "    \n",
    "button1 = tk.Button(text='Get the Square Root', command=getSquareRoot)\n",
    "canvas1.create_window(200, 180, window=button1)\n",
    "\n",
    "root.mainloop()"
   ]
  },
  {
   "cell_type": "code",
   "execution_count": 18,
   "metadata": {},
   "outputs": [
    {
     "ename": "NameError",
     "evalue": "name 'regwin' is not defined",
     "output_type": "error",
     "traceback": [
      "\u001b[0;31m---------------------------------------------------------------------------\u001b[0m",
      "\u001b[0;31mNameError\u001b[0m                                 Traceback (most recent call last)",
      "\u001b[1;32m/home/john/Documents/Development/bin/etc/tk.ipynb Cell 4'\u001b[0m in \u001b[0;36m<cell line: 73>\u001b[0;34m()\u001b[0m\n\u001b[1;32m     <a href='vscode-notebook-cell:/home/john/Documents/Development/bin/etc/tk.ipynb#ch0000003?line=69'>70</a>\u001b[0m passwd\u001b[39m=\u001b[39mtk\u001b[39m.\u001b[39mEntry(logwin,show\u001b[39m=\u001b[39m\u001b[39m'\u001b[39m\u001b[39m*\u001b[39m\u001b[39m'\u001b[39m,font\u001b[39m=\u001b[39mfnt);passwd\u001b[39m.\u001b[39mgrid(column\u001b[39m=\u001b[39m\u001b[39m1\u001b[39m,row\u001b[39m=\u001b[39m\u001b[39m4\u001b[39m)\n\u001b[1;32m     <a href='vscode-notebook-cell:/home/john/Documents/Development/bin/etc/tk.ipynb#ch0000003?line=71'>72</a>\u001b[0m submit\u001b[39m=\u001b[39mtk\u001b[39m.\u001b[39mButton(logwin,text\u001b[39m=\u001b[39m\u001b[39m'\u001b[39m\u001b[39mCheck\u001b[39m\u001b[39m'\u001b[39m,font\u001b[39m=\u001b[39mfnt,command\u001b[39m=\u001b[39mlogin);submit\u001b[39m.\u001b[39mgrid(column\u001b[39m=\u001b[39m\u001b[39m1\u001b[39m,row\u001b[39m=\u001b[39m\u001b[39m5\u001b[39m)\n\u001b[0;32m---> <a href='vscode-notebook-cell:/home/john/Documents/Development/bin/etc/tk.ipynb#ch0000003?line=72'>73</a>\u001b[0m submit\u001b[39m=\u001b[39mtk\u001b[39m.\u001b[39mButton(logwin,text\u001b[39m=\u001b[39m\u001b[39m'\u001b[39m\u001b[39mCheck\u001b[39m\u001b[39m'\u001b[39m,font\u001b[39m=\u001b[39mfnt,command\u001b[39m=\u001b[39mregwin);submit\u001b[39m.\u001b[39mgrid(column\u001b[39m=\u001b[39m\u001b[39m1\u001b[39m,row\u001b[39m=\u001b[39m\u001b[39m6\u001b[39m)\n\u001b[1;32m     <a href='vscode-notebook-cell:/home/john/Documents/Development/bin/etc/tk.ipynb#ch0000003?line=74'>75</a>\u001b[0m logwin\u001b[39m.\u001b[39mmainloop()\n",
      "\u001b[0;31mNameError\u001b[0m: name 'regwin' is not defined"
     ]
    }
   ],
   "source": [
    "import tkinter as tk\n",
    "import random as rd\n",
    "import mysql.connector as ms\n",
    "\n",
    "uuid='U'+str(rd.randint(1000,9999))\n",
    "\n",
    "#MySQL\n",
    "con=ms.connect(host='localhost',user='john',password='123456',database='taxi')\n",
    "cur=con.cursor()\n",
    "\n",
    "#GUI\n",
    "logwin=tk.Tk()\n",
    "logwin.title('GNU')\n",
    "fnt=('IBM Plex Mono',12)\n",
    "fntit=('IBM Plex Mono',12,'italic')\n",
    "h1fnt=('IBM Plex Sans',24)\n",
    "\n",
    "def login():\n",
    "\tuname_inp=uname.get()\n",
    "\tpasswd_inp=passwd.get()\n",
    "\tcur.execute('select uname,upwd from users')\n",
    "\top=dict(cur.fetchall())\n",
    "\tmsg=tk.tk.Label(logwin,text=' ',font=fntit)\n",
    "\tmsg.grid(column=0,row=6)\n",
    "\tif uname_inp not in op.keys():\n",
    "\t\tmsg.configure(text='Invalid username.')\n",
    "\telse:\n",
    "\t\tif not passwd_inp == op[uname_inp]:\n",
    "\t\t\tmsg.configure(text='Invalid password.')\n",
    "\t\telse:\n",
    "\t\t\tmsg.configure(text='Welcome '+uname_inp)\n",
    "\n",
    "\n",
    "\n",
    "def regpop():\n",
    "\tregwin=tk.Tk()\n",
    "\tregwin.title('Register')\n",
    "\ttk.tk.Label(regwin,text='Reguster',font=h1fnt).grid(column=1,row=0)\n",
    "\n",
    "\ttk.tk.Label(regwin,text='Username',font=fnt).grid(column=0,row=3)\n",
    "\treg_uname=tk.Entry(regwin,font=fnt);reg_uname.grid(column=1,row=3)\n",
    "\n",
    "\ttk.tk.Label(regwin,text='Password',font=fnt).grid(column=0,row=4)\n",
    "\treg_passwd=tk.Entry(regwin,show='*',font=fnt);reg_passwd.grid(column=1,row=4)\n",
    "\n",
    "\treg_submit=tk.Button(regwin,text='Register',font=fnt,command=register);reg_submit.grid(column=1,row=5)\n",
    "\t\n",
    "\tdef register():\n",
    "\t\treg_uname_inp=reg_uname.get().lower()\n",
    "\t\treg_passwd_inp=reg_passwd.get()\n",
    "\n",
    "\t\tregsql='insert into users values(%s,%s,%s)'\n",
    "\t\tregval=(uuid,reg_uname_inp,reg_passwd_inp)\n",
    "\n",
    "\t\tcur.execute(regsql,regval)\n",
    "\t\tcon.commit()\n",
    "\n",
    "\t\tregstatus='Registration success'\n",
    "\t\n",
    "\ttk.tk.Label(regwin,text=regstatus,font=fnt).grid(column=1,row=6)\n",
    "\n",
    "\n",
    "#Window\n",
    "tk.tk.Label(logwin,text='Welcome',font=h1fnt).grid(column=1,row=0)\n",
    "\n",
    "tk.tk.Label(logwin,text='Username',font=fnt).grid(column=0,row=3)\n",
    "uname=tk.Entry(logwin,font=fnt);uname.grid(column=1,row=3)\n",
    "\n",
    "tk.tk.Label(logwin,text='Password',font=fnt).grid(column=0,row=4)\n",
    "passwd=tk.Entry(logwin,show='*',font=fnt);passwd.grid(column=1,row=4)\n",
    "\n",
    "submit=tk.Button(logwin,text='Check',font=fnt,command=login);submit.grid(column=1,row=5)\n",
    "submit=tk.Button(logwin,text='Check',font=fnt,command=regwin);submit.grid(column=1,row=6)\n",
    "\n",
    "logwin.mainloop()\n"
   ]
  },
  {
   "cell_type": "code",
   "execution_count": 3,
   "metadata": {},
   "outputs": [
    {
     "data": {
      "text/plain": [
       "'8.0.29-0ubuntu0.22.04.2'"
      ]
     },
     "execution_count": 3,
     "metadata": {},
     "output_type": "execute_result"
    }
   ],
   "source": [
    "import mysql.connector as ms\n",
    "con=ms.connect(host='localhost',user='john',password='123456',database='taxi')\n",
    "con.get_server_info()\n"
   ]
  },
  {
   "cell_type": "code",
   "execution_count": 6,
   "metadata": {},
   "outputs": [],
   "source": [
    "# python program demonstrating\n",
    "# Combobox widget using tkinter\n",
    "\n",
    "\n",
    "import tkinter as tk\n",
    "from tkinter import ttk\n",
    "\n",
    "# Creating tkinter window\n",
    "window = tk.Tk()\n",
    "window.title('Combobox')\n",
    "#window.geometry('500x250')\n",
    "\n",
    "# tk.Label text for title\n",
    "tk.tk.Label(window, text = \"GFG Combobox Widget\", font = (\"Times New Roman\", 15)).grid(row = 0, column = 1)\n",
    "\n",
    "# tk.Label\n",
    "tk.tk.Label(window, text = \"Select the Month :\", font = (\"Times New Roman\", 10)).grid(column = 0,row = 5, padx = 10, pady = 25)\n",
    "\n",
    "# Combobox creation\n",
    "n = tk.StringVar()\n",
    "monthchoosen = ttk.Combobox(window, width = 27, textvariable = n)\n",
    "\n",
    "# Adding combobox drop down list\n",
    "monthchoosen['values'] = (' January',\n",
    "            ' February',\n",
    "            ' March',\n",
    "            ' April',\n",
    "            ' May',\n",
    "            ' June',\n",
    "            ' July',\n",
    "            ' August',\n",
    "            ' September',\n",
    "            ' October',\n",
    "            ' November',\n",
    "            ' December')\n",
    "\n",
    "monthchoosen.grid(column = 1, row = 5)\n",
    "monthchoosen.current(1)\n",
    "\n",
    "\n",
    "#tk.tk.Label(window,, font = (\"Times New Roman\", 15)).grid(row = 0, column = 20)\n",
    "\n",
    "window.mainloop()\n"
   ]
  },
  {
   "cell_type": "code",
   "execution_count": 6,
   "metadata": {},
   "outputs": [
    {
     "name": "stdout",
     "output_type": "stream",
     "text": [
      "[('root', '123456')]\n"
     ]
    }
   ],
   "source": [
    "import mysql.connector as ms\n",
    "\n",
    "#mysql connection\n",
    "con=ms.connect(host='localhost',user='john',password='123456',database='taxi')\n",
    "cur=con.cursor()\n",
    "cur.execute('create table if not exists employees(emp_id varchar(10) primary key,emp_name varchar(50),emp_uname varchar(50),emp_passwd varchar(50))')\n",
    "cur.execute('create table if not exists admin(admin_id varchar(10) primary key,admin_name varchar(50),admin_uname varchar(50),admin_passwd varchar(50))')\n",
    "cur.execute('select admin_uname,admin_passwd from admin')\n",
    "emp=cur.fetchall()\n",
    "print(emp)"
   ]
  },
  {
   "cell_type": "code",
   "execution_count": 1,
   "metadata": {},
   "outputs": [
    {
     "data": {
      "text/plain": [
       "0"
      ]
     },
     "execution_count": 1,
     "metadata": {},
     "output_type": "execute_result"
    }
   ],
   "source": [
    "import os\n",
    "os.system('gedit')"
   ]
  },
  {
   "cell_type": "code",
   "execution_count": 11,
   "metadata": {},
   "outputs": [
    {
     "name": "stdout",
     "output_type": "stream",
     "text": [
      " \n",
      "<class 'str'> <class 'str'>\n"
     ]
    }
   ],
   "source": [
    "import tkinter as tk\n",
    "import random as rd\n",
    "import mysql.connector as ms\n",
    "import platform as pf\n",
    "from tkinter import messagebox\n",
    "import os\n",
    "\n",
    "\n",
    "#mysql connection\n",
    "con=ms.connect(host='localhost',user='john',password='123456',database='taxi')\n",
    "cur=con.cursor()\n",
    "\n",
    "#init GUI\n",
    "logwin=tk.Tk()\n",
    "logwin.title('Register')\n",
    "fnt=('IBM Plex Mono',12)\n",
    "fntit=('IBM Plex Mono',12,'italic')\n",
    "h1fnt=('IBM Plex Sans',24)\n",
    "logwin.resizable(False, False)\n",
    "\n",
    "#login\n",
    "def login():\n",
    "\tuname_inp=login_uname.get()\n",
    "\tpasswd_inp=login_passwd.get()\n",
    "\tcur.execute('select uname,passwd from users')\n",
    "\top=dict(cur.fetchall())\n",
    "\n",
    "\tif uname_inp not in op.keys():\n",
    "\t\tmessagebox.showerror('Error','Username '+uname_inp+' does not exist.')\n",
    "\telse:\n",
    "\t\tif not passwd_inp == op[uname_inp]:\n",
    "\t\t\tmessagebox.showerror('Error','Invalid password entered for '+uname_inp+'.')\n",
    "\t\telse:\n",
    "\t\t\tlogwin.destroy()\n",
    "\t\t\tos.system('python3 home.py')\n",
    "\n",
    "def register():\n",
    "\tuuid='U'+str(rd.randint(1000,9999))\n",
    "\t\n",
    "\tdef reguser():\n",
    "\t\t\n",
    "\t\t#status=tk.tk.Label(regwin,font=fnt);status.grid(column=1,row=7,padx=10,pady=10)\n",
    "\t\treg_uname_inp=reg_uname.get().lower()\n",
    "\t\treg_passwd_inp=reg_passwd.get()\n",
    "\n",
    "\t\tcur.execute('select uname from users')\n",
    "\t\tusers=cur.fetchall()\n",
    "\t\tprint(reg_uname_inp,reg_passwd_inp)\n",
    "\t\tprint(type(reg_uname_inp),type(reg_passwd_inp))\n",
    "\t\t'''\n",
    "\t\tb=(reg_uname_inp,)\n",
    "\t\tif b not in users:\n",
    "\t\t\tif not reg_uname_inp == None:\n",
    "\t\t\t\tregsql='insert into users values(%s,%s,%s)'\n",
    "\t\t\t\tregval=(uuid,reg_uname_inp,reg_passwd_inp)\n",
    "\n",
    "\t\t\t\tcur.execute(regsql,regval)\n",
    "\t\t\t\tcon.commit()\n",
    "\t\t\t\n",
    "\t\t\t\tmessagebox.showinfo('','The new user '+reg_uname_inp+'\\nhas been successfully registered.',parent=regwin)\n",
    "\t\t\t\t#status.configure(text=' ')\n",
    "\t\t\t\t#status.configure(text='Registration success.')\n",
    "\t\t\telse:\n",
    "\t\t\t\tmessagebox.showerror('','Please enter the password.',parent=regwin)\n",
    "\t\telse:\n",
    "\t\t\t#status.configure(text=' ')\n",
    "\t\t\tmessagebox.showerror('Error','Username '+reg_uname_inp+'\\nalready exists.',parent=regwin)\n",
    "\t\t'''\n",
    "\tregwin=tk.Toplevel()\n",
    "\tregwin.title('Register')\n",
    "\tregwin.resizable(False, False)\n",
    "\n",
    "\ttk.tk.Label(regwin,text='Register',font=h1fnt).grid(column=1,row=0)\n",
    "\t\n",
    "\ttk.tk.Label(regwin,text='ID',font=fnt).grid(column=0,row=3,sticky=tk.E,padx=10,pady=10)\n",
    "\ttk.tk.Label(regwin,text=uuid,font=fnt).grid(column=1,row=3,sticky=tk.W,padx=10,pady=10)\n",
    "\t\n",
    "\ttk.tk.Label(regwin,text='Username',font=fnt).grid(column=0,row=4,sticky=tk.E,padx=10,pady=10)\n",
    "\treg_uname=tk.Entry(regwin,font=fnt);reg_uname.grid(column=1,row=4,sticky=tk.EW,padx=10,pady=10)\n",
    "\n",
    "\ttk.tk.Label(regwin,text='Password',font=fnt).grid(column=0,row=5,sticky=tk.E,padx=10,pady=10)\n",
    "\treg_passwd=tk.Entry(regwin,show='*',font=fnt);reg_passwd.grid(column=1,row=5,sticky=tk.EW,padx=10,pady=10)\n",
    "\n",
    "\tregsubimg=tk.PhotoImage(file='../bin/monoico/icon-67.png')\t\n",
    "\tregsubmit=tk.Button(regwin,text='Register',command=reguser);regsubmit.grid(column=1,row=6,padx=10,pady=10)\n",
    "\tregsubmit.image=regsubimg\n",
    "\t\n",
    "\tregcloseimg=tk.PhotoImage(file='../bin/monoico/icon-66.png')\n",
    "\tregclose=tk.Button(regwin,text='Close',command=regwin.destroy);regclose.grid(column=0,row=9,sticky=tk.SW,padx=10,pady=10)\n",
    "\tregclose.image=regcloseimg\n",
    "\t\n",
    "def delete():\n",
    "\tdef deluser():\n",
    "\t\tcur.execute('select uname from users')\n",
    "\t\tusers=cur.fetchall()\n",
    "\t\tu=del_uname.get()\n",
    "\t\tp=del_passwd.get()\n",
    "\t\ta=(u,)\n",
    "\t\tif a in users:\n",
    "\t\t\tcur.execute('select uname,passwd from users')\n",
    "\t\t\tb=cur.fetchall()\n",
    "\t\t\tupass=dict(b)\n",
    "\n",
    "\t\t\tif p == upass[u]:\n",
    "\t\t\t\tsql=\"delete from users where uname =%s\"\n",
    "\t\t\t\tval=(u,)\n",
    "\t\t\t\tcur.execute(sql,val)\n",
    "\t\t\t\tcon.commit()\n",
    "\t\t\t\tmessagebox.showinfo('Message','Username '+u+' deleted.',parent=delwin)\n",
    "\t\t\telse:\n",
    "\t\t\t\tmessagebox.showerror('Error','Invalid password for username '+u+'.',parent=delwin)\n",
    "\t\telse:\n",
    "\t\t\tmessagebox.showerror('Error','Username '+u+' not found.',parent=delwin)\n",
    "\n",
    "\tdelwin=tk.Toplevel()\n",
    "\tdelwin.title('Delete User')\n",
    "\n",
    "\ttk.tk.Label(delwin,text='Delete User',font=h1fnt).grid(column=1,row=0,padx=10,pady=10)\n",
    "\t#tk.tk.Label(delwin,text='Enter the username which you wish to delete',font=fnt).grid(column=0,row=1,padx=10,pady=10)\n",
    "\n",
    "\ttk.tk.Label(delwin,text='Username',font=fnt).grid(column=0,row=4,sticky=tk.E,padx=10,pady=10)\n",
    "\tdel_uname=tk.Entry(delwin,font=fnt);del_uname.grid(column=1,row=4,sticky=tk.EW,padx=10,pady=10)\n",
    "\n",
    "\ttk.tk.Label(delwin,text='Password',font=fnt).grid(column=0,row=5,sticky=tk.E,padx=10,pady=10)\n",
    "\tdel_passwd=tk.Entry(delwin,show='*',font=fnt);del_passwd.grid(column=1,row=5,sticky=tk.EW,padx=10,pady=10)\n",
    "\n",
    "\tdelsubimg=tk.PhotoImage(file='../bin/monoico/icon-722.png')\n",
    "\tdelsubmit=tk.Button(delwin,image=delsubimg,command=deluser);delsubmit.grid(column=1,row=6,padx=10,pady=10)\n",
    "\tdelsubmit.image=delsubimg\n",
    "\t\n",
    "\tdelcloseimg=tk.PhotoImage(file='../bin/monoico/icon-66.png')\n",
    "\tdelclose=tk.Button(delwin,text='Close',image=delcloseimg,command=delwin.destroy);delclose.grid(column=0,row=9,sticky=tk.SW,padx=10,pady=10)\n",
    "\tdelclose.image=delcloseimg\n",
    "\n",
    "#Window\n",
    "tk.tk.Label(logwin,text='Login',font=h1fnt).grid(column=1,row=0)\n",
    "\n",
    "tk.tk.Label(logwin,text='Username',font=fnt).grid(column=0,row=3,sticky=tk.E,padx=10,pady=10)\n",
    "login_uname=tk.Entry(logwin,font=fnt)\n",
    "login_uname.grid(column=1,row=3,sticky=tk.EW,padx=10,pady=10)\n",
    "\n",
    "tk.tk.Label(logwin,text='Password',font=fnt).grid(column=0,row=4,sticky=tk.E,padx=10,pady=10)\n",
    "login_passwd=tk.Entry(logwin,show='*',font=fnt)\n",
    "login_passwd.grid(column=1,row=4,sticky=tk.EW,padx=10,pady=10)\n",
    "\n",
    "logsubmit=tk.Button(logwin,text='Login...',command=login)\n",
    "logsubmit.grid(column=1,row=5,padx=10,pady=10)\n",
    "#tk.tk.Label(logwin,text='Click to register ->',font=fnt).grid(column=1,row=8)\n",
    "\n",
    "reg=tk.Button(logwin,text='Register',command=register)\n",
    "reg.grid(column=1,row=8,padx=10,pady=10)\n",
    "\n",
    "delusrbtn=tk.Button(logwin,text='Remove User',command=delete)\n",
    "delusrbtn.grid(column=0,row=8,padx=10,pady=10)\n",
    "\n",
    "#tk.tk.Label(logwin,text=('Build '+build+' on\\n'+pf.system()+' '+pf.release()),font=fntit).grid(column=0,row=12)\n",
    "logwin.mainloop()\n"
   ]
  },
  {
   "cell_type": "code",
   "execution_count": 77,
   "metadata": {},
   "outputs": [
    {
     "name": "stdout",
     "output_type": "stream",
     "text": [
      "[('uuid', 'uname', 'passwd'), ('U5561', 'john', '123456'), ('U6805', 'jade', 'jade'), ('U8862', 'jaden', 'jaden')]\n"
     ]
    }
   ],
   "source": [
    "import mysql.connector as ms\n",
    "import tkinter as tk\n",
    "#mysql connection\n",
    "con=ms.connect(host='localhost',user='john',password='123456',database='taxi')\n",
    "cur=con.cursor()\n",
    "\n",
    "root=tk.Tk()\n",
    "cur.execute('show columns from users')\n",
    "a=cur.fetchall()\n",
    "b=[]\n",
    "for x in a:\n",
    "\tb.append(x[0])\n",
    "header=tuple(b)\n",
    "\n",
    "cur.execute('select * from users')\n",
    "e=[header]+cur.fetchall()\n",
    "\n",
    "rows=len(e)\n",
    "cols=len(e[0])\n",
    "\n",
    "print(e)\n",
    "for i in range(rows):\n",
    "\tfor j in range(cols):\n",
    "\t\tentry = tk.Label(root,borderwidth=1,relief='solid',width=10,height=2)\n",
    "\t\tentry.grid(row=i, column=j,padx=2,pady=2)\n",
    "\t\tentry.configure(text=e[i][j])\n",
    "con.database()\\\\\\\n",
    "root.mainloop()"
   ]
  },
  {
   "cell_type": "code",
   "execution_count": 37,
   "metadata": {},
   "outputs": [],
   "source": [
    "# import tkinter\n",
    "from tkinter import *\n",
    "\n",
    "# Create Tk object\n",
    "window = Tk()\n",
    "\n",
    "# Set the window title\n",
    "window.title('GFG')\n",
    "\n",
    "# take Label widgets\n",
    "A = Label(window, text=\"flat\", width=10,\n",
    "\t\theight=2, borderwidth=3, relief=\"flat\")\n",
    "B = Label(window, text=\"solid\", width=10,\n",
    "\t\theight=2, borderwidth=3, relief=\"solid\")\n",
    "C = Label(window, text=\"raised\", width=10,\n",
    "\t\theight=2, borderwidth=3, relief=\"raised\")\n",
    "D = Label(window, text=\"sunken\", width=10,\n",
    "\t\theight=2, borderwidth=3, relief=\"sunken\")\n",
    "E = Label(window, text=\"ridge\", width=10,\n",
    "\t\theight=2, borderwidth=3, relief=\"ridge\")\n",
    "F = Label(window, text=\"groove\", width=10,\n",
    "\t\theight=2, borderwidth=3, relief=\"groove\")\n",
    "\n",
    "# place that labels to window\n",
    "A.grid(column=0, row=1, padx=100, pady=10)\n",
    "B.grid(column=0, row=2, padx=100, pady=10)\n",
    "C.grid(column=0, row=3, padx=100, pady=10)\n",
    "D.grid(column=0, row=4, padx=100, pady=10)\n",
    "E.grid(column=0, row=5, padx=100, pady=10)\n",
    "F.grid(column=0, row=6, padx=100, pady=10)\n",
    "\n",
    "window.mainloop()\n"
   ]
  },
  {
   "cell_type": "code",
   "execution_count": 5,
   "metadata": {},
   "outputs": [
    {
     "name": "stdout",
     "output_type": "stream",
     "text": [
      "[('john',), ('jaden',), ('jim',)]\n",
      "['john', 'jaden', 'jim']\n"
     ]
    }
   ],
   "source": [
    "import mysql.connector as ms\n",
    "import tkinter as tk\n",
    "#mysql connection\n",
    "con=ms.connect(host='localhost',user='john',password='123456',database='taxi')\n",
    "cur=con.cursor()\n",
    "cur.execute('select emp_uname from employees')\n",
    "a=cur.fetchall()\n",
    "b=[]\n",
    "for i in a:\n",
    "\tb.append(i[0])\n",
    "print(a)\n",
    "print(b)"
   ]
  },
  {
   "cell_type": "code",
   "execution_count": 11,
   "metadata": {},
   "outputs": [
    {
     "name": "stdout",
     "output_type": "stream",
     "text": [
      "Distance: 100 km\n",
      "Base fare (first 5 km): 15\n",
      "Additional fare (2.5/additional km): 237.5\n",
      "Total: 252.5\n"
     ]
    }
   ],
   "source": [
    "locations=('A', 'B', 'C', 'D', 'E', 'F', 'G', 'H', 'I', 'J', 'K', 'L', 'M', 'N', 'O', 'P', 'Q', 'R', 'S', 'T', 'U', 'V', 'W', 'X', 'Y', 'Z')\n",
    "base_fare=15\t\t#base fare for the first kilometer\n",
    "rate=2.5\t\t#fare per kilometre after the first km\n",
    "\n",
    "start=input('Origin')\n",
    "end=input('Destination')\n",
    "\n",
    "\n",
    "distance=abs((locations.index(end))*4-(locations.index(start))*4)\t\t#distance between locations - 4 km.\n",
    "\n",
    "print('Distance:',distance,'km')\n",
    "print('Base fare (first 5 km):',base_fare)\n",
    "if distance > 5:\n",
    "\tadd_fare=rate*(distance-5)\n",
    "\tprint('Additional fare (2.5/additional km):',add_fare)\n",
    "elif distance > 0 and distance <= 5:\n",
    "\tadd_fare=0\n",
    "\tprint('Additional fare (2.5/additional km):',add_fare)\n",
    "print('Total:',base_fare+add_fare)\n"
   ]
  },
  {
   "cell_type": "code",
   "execution_count": 19,
   "metadata": {},
   "outputs": [
    {
     "name": "stdout",
     "output_type": "stream",
     "text": [
      "Distance: 100 km\n",
      "Rate per kilometre: 25\n",
      "Total: 2500\n"
     ]
    }
   ],
   "source": [
    "locations=('A', 'B', 'C', 'D', 'E', 'F', 'G', 'H', 'I', 'J', 'K', 'L', 'M', 'N', 'O', 'P', 'Q', 'R', 'S', 'T', 'U', 'V', 'W', 'X', 'Y', 'Z')\n",
    "rate=25\t\t#fare per kilometre after the first km\n",
    "\n",
    "start=input('Origin')\n",
    "end=input('Destination')\n",
    "distance=abs((locations.index(end))*4-(locations.index(start))*4)\t\t#distance between locations - 4 km.\n",
    "\n",
    "print('Distance:',distance,'km')\n",
    "print('Rate per kilometre:',rate)\n",
    "print('Total:',rate*distance)\n"
   ]
  },
  {
   "cell_type": "code",
   "execution_count": 1,
   "metadata": {},
   "outputs": [
    {
     "name": "stdout",
     "output_type": "stream",
     "text": [
      "original string:  hello geeks\n",
      "encrypted string:  b'gAAAAABi0ROKB-PfhbXy9__KBO1XyMwKk2TPl54NNykAfhCxQg4gRzeQLkjJoQy0_vT6_-sGgRdWV_3bjCCfx4KLob1-LNdtHg=='\n",
      "decrypted string:  hello geeks\n"
     ]
    }
   ],
   "source": [
    "from cryptography.fernet import Fernet\n",
    "\n",
    "# we will be encrypting the below string.\n",
    "message = \"hello geeks\"\n",
    "\n",
    "# generate a key for encryption and decryption\n",
    "# You can use fernet to generate\n",
    "# the key or use random key generator\n",
    "# here I'm using fernet to generate key\n",
    "\n",
    "key = Fernet.generate_key()\n",
    "\n",
    "# Instance the Fernet class with the key\n",
    "\n",
    "fernet = Fernet(key)\n",
    "\n",
    "# then use the Fernet class instance\n",
    "# to encrypt the string string must\n",
    "# be encoded to byte string before encryption\n",
    "encMessage = fernet.encrypt(message.encode())\n",
    "\n",
    "print(\"original string: \", message)\n",
    "print(\"encrypted string: \", encMessage)\n",
    "\n",
    "# decrypt the encrypted string with the\n",
    "# Fernet instance of the key,\n",
    "# that was used for encrypting the string\n",
    "# encoded byte string is returned by decrypt method,\n",
    "# so decode it to string with decode methods\n",
    "decMessage = fernet.decrypt(encMessage).decode()\n",
    "\n",
    "print(\"decrypted string: \", decMessage)\n"
   ]
  },
  {
   "cell_type": "code",
   "execution_count": 5,
   "metadata": {},
   "outputs": [
    {
     "name": "stdout",
     "output_type": "stream",
     "text": [
      "7 2022\n"
     ]
    }
   ],
   "source": [
    "import datetime as dt\n",
    "\n",
    "x=dt.datetime.now()\n",
    "\n",
    "print(x.month,x.year)"
   ]
  },
  {
   "cell_type": "code",
   "execution_count": 8,
   "metadata": {},
   "outputs": [
    {
     "ename": "TypeError",
     "evalue": "structseq() missing required argument 'sequence' (pos 1)",
     "output_type": "error",
     "traceback": [
      "\u001b[0;31m---------------------------------------------------------------------------\u001b[0m",
      "\u001b[0;31mTypeError\u001b[0m                                 Traceback (most recent call last)",
      "\u001b[1;32m/home/john/Documents/Development/taxi/ref/tk.ipynb Cell 17\u001b[0m in \u001b[0;36m<cell line: 2>\u001b[0;34m()\u001b[0m\n\u001b[1;32m      <a href='vscode-notebook-cell:/home/john/Documents/Development/taxi/ref/tk.ipynb#ch0000016?line=0'>1</a>\u001b[0m \u001b[39mimport\u001b[39;00m \u001b[39mos\u001b[39;00m\n\u001b[0;32m----> <a href='vscode-notebook-cell:/home/john/Documents/Development/taxi/ref/tk.ipynb#ch0000016?line=1'>2</a>\u001b[0m \u001b[39mprint\u001b[39m(os\u001b[39m.\u001b[39;49muname_result())\n",
      "\u001b[0;31mTypeError\u001b[0m: structseq() missing required argument 'sequence' (pos 1)"
     ]
    }
   ],
   "source": [
    "import os\n",
    "print(os.uname_result())"
   ]
  }
 ],
 "metadata": {
  "kernelspec": {
   "display_name": "Python 3.10.4 64-bit",
   "language": "python",
   "name": "python3"
  },
  "language_info": {
   "codemirror_mode": {
    "name": "ipython",
    "version": 3
   },
   "file_extension": ".py",
   "mimetype": "text/x-python",
   "name": "python",
   "nbconvert_exporter": "python",
   "pygments_lexer": "ipython3",
   "version": "3.10.4"
  },
  "orig_nbformat": 4,
  "vscode": {
   "interpreter": {
    "hash": "916dbcbb3f70747c44a77c7bcd40155683ae19c65e1c03b4aa3499c5328201f1"
   }
  }
 },
 "nbformat": 4,
 "nbformat_minor": 2
}
